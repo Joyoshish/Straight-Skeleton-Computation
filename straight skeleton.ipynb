{
 "cells": [
  {
   "cell_type": "code",
   "execution_count": null,
   "metadata": {},
   "outputs": [],
   "source": [
    "pip install pyskeleton"
   ]
  },
  {
   "cell_type": "code",
   "execution_count": 0,
   "metadata": {
    "colab": {},
    "colab_type": "code",
    "id": "fV2eycXUE9A2"
   },
   "outputs": [],
   "source": [
    "import polygon\n",
    "\n",
    "vertices = [(0,0), (0,5), (5,5), (5,0)]\n",
    "edges = [(0,1), (1,2), (2,3), (3,0)]\n",
    "\n",
    "p = polygon.Polygon(vertices, edges)\n",
    "skeleton_graph = p.straight_skeleton()"
   ]
  }
 ],
 "metadata": {
  "colab": {
   "name": "straight skeleton.ipynb",
   "provenance": [],
   "version": "0.3.2"
  },
  "kernelspec": {
   "display_name": "Python 3",
   "language": "python",
   "name": "python3"
  },
  "language_info": {
   "codemirror_mode": {
    "name": "ipython",
    "version": 3
   },
   "file_extension": ".py",
   "mimetype": "text/x-python",
   "name": "python",
   "nbconvert_exporter": "python",
   "pygments_lexer": "ipython3",
   "version": "3.6.6"
  }
 },
 "nbformat": 4,
 "nbformat_minor": 1
}
