{
 "cells": [
  {
   "cell_type": "code",
   "execution_count": 0,
   "metadata": {
    "colab": {
     "base_uri": "https://localhost:8080/",
     "height": 190
    },
    "colab_type": "code",
    "executionInfo": {
     "elapsed": 7289,
     "status": "ok",
     "timestamp": 1567662361798,
     "user": {
      "displayName": "Joyoshish Saha",
      "photoUrl": "https://lh3.googleusercontent.com/a-/AAuE7mDRirLoiXksgnI-3yNZFO4KJqoxkZjLDKOVwRH7=s64",
      "userId": "18025059165053995685"
     },
     "user_tz": -330
    },
    "id": "VKh1sD1o9REp",
    "outputId": "972ab83a-ed82-437f-c33c-daeeb3903309"
   },
   "outputs": [
    {
     "name": "stdout",
     "output_type": "stream",
     "text": [
      "Collecting euclid\n",
      "  Downloading https://files.pythonhosted.org/packages/bb/b3/167a013e6d92de729294ebddde295169d45551fab875a4504862b069760c/euclid-0.01.tar.gz\n",
      "Building wheels for collected packages: euclid\n",
      "  Building wheel for euclid (setup.py) ... \u001b[?25l\u001b[?25hdone\n",
      "  Created wheel for euclid: filename=euclid-0.1-cp36-none-any.whl size=13225 sha256=eb0d8b9cdbf902cadc5ef462d2bc281c5abc95298bf1787f4b4ec1251b9eec4c\n",
      "  Stored in directory: /root/.cache/pip/wheels/2d/18/f6/aac808eb45995d4da2efbb80d1ebaa8b459eec25a9753ce072\n",
      "Successfully built euclid\n",
      "Installing collected packages: euclid\n",
      "Successfully installed euclid-0.1\n"
     ]
    }
   ],
   "source": [
    "pip install euclid"
   ]
  },
  {
   "cell_type": "code",
   "execution_count": 0,
   "metadata": {
    "colab": {
     "base_uri": "https://localhost:8080/",
     "height": 119
    },
    "colab_type": "code",
    "collapsed": true,
    "executionInfo": {
     "elapsed": 3898,
     "status": "ok",
     "timestamp": 1567662214371,
     "user": {
      "displayName": "Joyoshish Saha",
      "photoUrl": "https://lh3.googleusercontent.com/a-/AAuE7mDRirLoiXksgnI-3yNZFO4KJqoxkZjLDKOVwRH7=s64",
      "userId": "18025059165053995685"
     },
     "user_tz": -330
    },
    "id": "3N09cKkS8IfI",
    "outputId": "6c6eb3e4-e2df-47c0-a78d-d7951cc66a82"
   },
   "outputs": [
    {
     "name": "stdout",
     "output_type": "stream",
     "text": [
      "A []\n",
      "B [(425, 733)]\n",
      "C [(576, 277), (227, 172)]\n",
      "[(227, 172), (576, 277), (425, 733)]\n",
      "[(227, 172), (576, 277), (425, 733)]\n",
      "<Figure size 640x480 with 1 Axes>\n"
     ]
    }
   ],
   "source": [
    "!python random_polygon_generator.py"
   ]
  },
  {
   "cell_type": "code",
   "execution_count": 0,
   "metadata": {
    "colab": {
     "base_uri": "https://localhost:8080/",
     "height": 170
    },
    "colab_type": "code",
    "executionInfo": {
     "elapsed": 4750,
     "status": "ok",
     "timestamp": 1567662370598,
     "user": {
      "displayName": "Joyoshish Saha",
      "photoUrl": "https://lh3.googleusercontent.com/a-/AAuE7mDRirLoiXksgnI-3yNZFO4KJqoxkZjLDKOVwRH7=s64",
      "userId": "18025059165053995685"
     },
     "user_tz": -330
    },
    "id": "i4c9OqS28kve",
    "outputId": "fb18ae7a-da40-4727-84c0-9dadd80cae14"
   },
   "outputs": [
    {
     "name": "stdout",
     "output_type": "stream",
     "text": [
      "Traceback (most recent call last):\n",
      "  File \"demo.py\", line 5, in <module>\n",
      "    import polyskel\n",
      "  File \"/content/polyskel.py\", line 9, in <module>\n",
      "    from euclid import *\n",
      "  File \"/usr/local/lib/python3.6/dist-packages/euclid.py\", line 137\n",
      "    raise AttributeError, name\n",
      "                        ^\n",
      "SyntaxError: invalid syntax\n"
     ]
    }
   ],
   "source": [
    "!python demo.py text.txt"
   ]
  },
  {
   "cell_type": "code",
   "execution_count": 0,
   "metadata": {
    "colab": {},
    "colab_type": "code",
    "id": "_sc9Kr3j9LFy"
   },
   "outputs": [],
   "source": [
    "out = [(2,0),(5,0),(5,7),(4,7),(4,5),(3,5),(3,7),(2,7),(2,3),(3,3),(3,2),(2,2)]\n"
   ]
  },
  {
   "cell_type": "code",
   "execution_count": 0,
   "metadata": {
    "colab": {},
    "colab_type": "code",
    "id": "_6qDbUhw3If3"
   },
   "outputs": [],
   "source": [
    "def sort_ortho_poly(points, current=None, start=None, go_x=True):\n",
    "    # initialize the starting point at the bottom left, which should have the least sum of x and y\n",
    "    if not current:\n",
    "        start = current = min(points, key=sum)\n",
    "    # if we're going x-wards, v would be the y index (1), h would be the x index (0), and vice versa \n",
    "    v, h = go_x, not go_x\n",
    "    # remove the current point from the list of points so the next recursion would be processing the remaining points\n",
    "    remaining = points[:]\n",
    "    remaining.remove(current)\n",
    "    # if there is no more remaining point\n",
    "    if not remaining:\n",
    "        # we've found a path if we are able to connect back to the starting point, or else we don't\n",
    "        return [current] if start[v] == current[v] else []\n",
    "    # try each point in the remaining points that goes in the right direction from the current point\n",
    "    for next in [p for p in remaining if p[v] == current[v]]:\n",
    "        # recursively find a valid path from the remaining points after flipping the direction\n",
    "        path = sort_ortho_poly(remaining, next, start, not go_x)\n",
    "        # if we get a path that does go back to the starting point, we have to make sure the path is valid\n",
    "        if path:\n",
    "            # the current edge (e1, e2)\n",
    "            e1, e2 = current, next\n",
    "            # make sure e1 is lower than or left of e2\n",
    "            if e1[h] > e2[h]:\n",
    "                e1, e2 = e2, e1\n",
    "            # for each edge (p1, p2) in the path, including the final edge connecting to the starting point\n",
    "            for p1, p2 in zip(path, path[1:] + [start]):\n",
    "                # make sure p1 is lower than or left of p2\n",
    "                if p1[0] == p2[0] and p1[1] > p2[1] or p1[1] == p2[1] and p1[0] > p2[0]:\n",
    "                    p1, p2 = p2, p1\n",
    "                # if the edge is in the same line as the current edge\n",
    "                if p1[v] == p2[v] == e1[v]:\n",
    "                    # make sure the two edges don't overlap\n",
    "                    if e1[h] < p1[h] < e2[h] or e1[h] < p2[h] < e2[h] or p1[h] < e1[h] < p2[h] or p1[h] < e2[h] < p2[h]:\n",
    "                        break\n",
    "                # if the edge is perpendicular to the current edge, make sure they don't cross over\n",
    "                elif p1[h] == p2[h] and e1[h] < p1[h] < e2[h] and p1[v] < e1[v] < p2[v]:\n",
    "                    break\n",
    "            else:\n",
    "                # the path is valid! we append the path to the current point and return\n",
    "                return [current, *path]\n",
    "    # return empty if it's a dead end\n",
    "    return []\n"
   ]
  },
  {
   "cell_type": "code",
   "execution_count": 0,
   "metadata": {
    "colab": {},
    "colab_type": "code",
    "id": "gnClZYLv3bGx"
   },
   "outputs": [],
   "source": [
    "data = [(2, 0), (5, 0), (5, 7), (4, 7), (4, 5), (3, 5),(3, 3), (2, 3), (2, 2), (3, 2), (3, 7), (2, 7)]\n",
    "data2 = (sort_ortho_poly(data))"
   ]
  },
  {
   "cell_type": "code",
   "execution_count": 5,
   "metadata": {
    "colab": {
     "base_uri": "https://localhost:8080/",
     "height": 221
    },
    "colab_type": "code",
    "executionInfo": {
     "elapsed": 1245,
     "status": "ok",
     "timestamp": 1569389221056,
     "user": {
      "displayName": "Joyoshish Saha",
      "photoUrl": "https://lh3.googleusercontent.com/a-/AAuE7mDRirLoiXksgnI-3yNZFO4KJqoxkZjLDKOVwRH7=s64",
      "userId": "18025059165053995685"
     },
     "user_tz": -330
    },
    "id": "1F-hm9Ce3igB",
    "outputId": "4099fbd1-4d94-4a7c-b835-1699ee50e930"
   },
   "outputs": [
    {
     "data": {
      "text/plain": [
       "[(2, 0),\n",
       " (5, 0),\n",
       " (5, 7),\n",
       " (4, 7),\n",
       " (4, 5),\n",
       " (3, 5),\n",
       " (3, 7),\n",
       " (2, 7),\n",
       " (2, 3),\n",
       " (3, 3),\n",
       " (3, 2),\n",
       " (2, 2)]"
      ]
     },
     "execution_count": 5,
     "metadata": {
      "tags": []
     },
     "output_type": "execute_result"
    }
   ],
   "source": [
    "data2"
   ]
  },
  {
   "cell_type": "code",
   "execution_count": 0,
   "metadata": {
    "colab": {},
    "colab_type": "code",
    "id": "-mPBmUY65Spm"
   },
   "outputs": [],
   "source": []
  }
 ],
 "metadata": {
  "colab": {
   "name": "Untitled0.ipynb",
   "provenance": []
  },
  "kernelspec": {
   "display_name": "Python 3",
   "language": "python",
   "name": "python3"
  },
  "language_info": {
   "codemirror_mode": {
    "name": "ipython",
    "version": 3
   },
   "file_extension": ".py",
   "mimetype": "text/x-python",
   "name": "python",
   "nbconvert_exporter": "python",
   "pygments_lexer": "ipython3",
   "version": "3.6.6"
  }
 },
 "nbformat": 4,
 "nbformat_minor": 1
}
